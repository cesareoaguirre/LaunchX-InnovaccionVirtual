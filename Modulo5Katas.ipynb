{
 "cells": [
  {
   "cell_type": "markdown",
   "metadata": {},
   "source": [
    "# Ejercicio1 - Utilizar operadores aritméticos"
   ]
  },
  {
   "cell_type": "code",
   "execution_count": null,
   "metadata": {},
   "outputs": [],
   "source": [
    "tierra = 149597.870 #km\n",
    "jupiter = 778547.200 #km\n",
    "distancia_km = jupiter - tierra\n",
    "distancia_millas = distancia_km * 1.609344\n",
    "\n",
    "print(f\"Distancia entre Júpiter y la Tierra\\n {distancia_km} Kilómetros \\n{distancia_millas} Millas\\n\")"
   ]
  },
  {
   "cell_type": "markdown",
   "metadata": {},
   "source": [
    "## Ejercicio 2: convierte cadenas en números y usa valores absolutos\n",
    "\n",
    "### Crear una aplicación para trabajar con números y entrada de usuario"
   ]
  },
  {
   "cell_type": "code",
   "execution_count": 20,
   "metadata": {},
   "outputs": [
    {
     "name": "stdout",
     "output_type": "stream",
     "text": [
      "El planeta T se encuentra a 12.0km del Sol\n",
      "El planeta M se encuentra a 33.0km del Sol\n",
      "{'nombre': 'T', 'distancia': 12.0}\n",
      "\n",
      "{'nombre': 'M', 'distancia': 33.0}\n",
      "\n",
      "Distancia entre T y M\n",
      " 21.0 Kilómetros \n",
      "33.796224 Millas\n",
      "\n"
     ]
    }
   ],
   "source": [
    "ingresa_input = True\n",
    "planetas = []\n",
    "while ingresa_input and len(planetas) < 2 :\n",
    "    nombre = input(\"¿Cómo se llama el planeta?\")\n",
    "    distancia = float(input(f\"¿Cuál es la distancia en km de {nombre} al Sol en km?\"))\n",
    "    planetas.append({\"nombre\": nombre, \"distancia\":  distancia})\n",
    "    print(f\"El planeta {nombre} se encuentra a {distancia}km del Sol\")\n",
    "    #ingresa_input = input(\"Escribe 'y' para continuar o Enter para terminar.\") == \"y\"\n",
    "print (f\"{planetas[0]}\\n\")\n",
    "print (f\"{planetas[1]}\\n\")\n",
    "distancia_km = abs(planetas[0][\"distancia\"] - planetas[1][\"distancia\"] )\n",
    "distancia_millas = distancia_km * 1.609344\n",
    "print(\"Distancia entre {planetaA} y {planetaB}\\n{distancia_km} Kilómetros \\n{distancia_millas} Millas\\n\".format(planetaA=planetas[0][\"nombre\"], planetaB=planetas[1][\"nombre\"], distancia_km=distancia_km, distancia_millas=distancia_millas))"
   ]
  }
 ],
 "metadata": {
  "interpreter": {
   "hash": "a689ee4fa45388ebbe105e2281edd1d59283316069841985b5af34134d426bb7"
  },
  "kernelspec": {
   "display_name": "Python 3.9.9 ('env': venv)",
   "language": "python",
   "name": "python3"
  },
  "language_info": {
   "codemirror_mode": {
    "name": "ipython",
    "version": 3
   },
   "file_extension": ".py",
   "mimetype": "text/x-python",
   "name": "python",
   "nbconvert_exporter": "python",
   "pygments_lexer": "ipython3",
   "version": "3.9.9"
  },
  "orig_nbformat": 4
 },
 "nbformat": 4,
 "nbformat_minor": 2
}
