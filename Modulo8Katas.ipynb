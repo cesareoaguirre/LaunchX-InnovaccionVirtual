{
 "cells": [
  {
   "cell_type": "markdown",
   "metadata": {},
   "source": [
    "Para este ejercicio, crearás un diccionario que almacene información sobre el planeta Marte.\n",
    "\n"
   ]
  },
  {
   "cell_type": "code",
   "execution_count": 8,
   "metadata": {},
   "outputs": [
    {
     "name": "stdout",
     "output_type": "stream",
     "text": [
      "Planeta: Marte\n",
      "circunferencia (km)\n",
      " Polar:675.2\n",
      " Ecuatorial:6792\n"
     ]
    }
   ],
   "source": [
    "planet = {\n",
    "    'lunas' : 2,\n",
    "    'name' : \"Marte\"\n",
    "}\n",
    "\n",
    "print (f\"Planeta: {planet.get('name')}\")\n",
    "planet.update({'circunferencia (km)':{\n",
    "        'polar': 675.2,\n",
    "        'equatorial': 6792\n",
    "}})\n",
    "print (f\"circunferencia (km)\\n Polar:{planet.get('circunferencia (km)')['polar']}\\n Ecuatorial:{planet.get('circunferencia (km)')['equatorial']}\")\n"
   ]
  },
  {
   "cell_type": "markdown",
   "metadata": {},
   "source": [
    "## Ejercicio 2: Programación dinámica con diccionarios\n",
    "### Ejercicio: Cálculo de valores\n",
    "En este escenario, calcularás tanto el número total de lunas en el sistema solar como el número promedio de lunas que tiene un planeta."
   ]
  },
  {
   "cell_type": "code",
   "execution_count": 14,
   "metadata": {},
   "outputs": [
    {
     "name": "stdout",
     "output_type": "stream",
     "text": [
      "Hay  en total 12  planetas. \n",
      "El   total de lunas es  214. \n",
      "La media es de lunas por planeta es de  17.833333333333332  lunas\n"
     ]
    }
   ],
   "source": [
    "import  statistics\n",
    "# Planets and moons\n",
    "\n",
    "planet_moons = {\n",
    "    'mercury': 0,\n",
    "    'venus': 0,\n",
    "    'earth': 1,\n",
    "    'mars': 2,\n",
    "    'jupiter': 79,\n",
    "    'saturn': 82,\n",
    "    'uranus': 27,\n",
    "    'neptune': 14,\n",
    "    'pluto': 5,\n",
    "    'haumea': 2,\n",
    "    'makemake': 1,\n",
    "    'eris': 1\n",
    "}\n",
    "media_lunas =   statistics.mean(planet_moons.values())\n",
    "planetas = len(planet_moons) \n",
    "lunas=sum(planet_moons.values())\n",
    "print(f\"Hay  en total {planetas}  planetas. \\nEl   total de lunas es  {lunas}. \\nLa media es de lunas por planeta es de  {media_lunas}  lunas\")"
   ]
  }
 ],
 "metadata": {
  "interpreter": {
   "hash": "a689ee4fa45388ebbe105e2281edd1d59283316069841985b5af34134d426bb7"
  },
  "kernelspec": {
   "display_name": "Python 3.9.9 ('env': venv)",
   "language": "python",
   "name": "python3"
  },
  "language_info": {
   "codemirror_mode": {
    "name": "ipython",
    "version": 3
   },
   "file_extension": ".py",
   "mimetype": "text/x-python",
   "name": "python",
   "nbconvert_exporter": "python",
   "pygments_lexer": "ipython3",
   "version": "3.9.9"
  },
  "orig_nbformat": 4
 },
 "nbformat": 4,
 "nbformat_minor": 2
}
