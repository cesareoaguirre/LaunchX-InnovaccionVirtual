{
 "cells": [
  {
   "cell_type": "markdown",
   "metadata": {},
   "source": [
    "# Añadir el código necesario para crear una variable que guarde la velocidad del asteroide.\n",
    "# Escribe una expresión de prueba para calcular si necesita una advertencia.\n",
    "# Agregue las instrucciones que se ejecutarán si la expresión de prueba es true o false.\n",
    "\n"
   ]
  },
  {
   "cell_type": "code",
   "execution_count": null,
   "metadata": {},
   "outputs": [],
   "source": [
    "velocidad_asteroide = 49 #km/s\n",
    "if velocidad_asteroide > 25 :\n",
    "    # Velocidad de advertencia\n",
    "    print(\"Un asteroide va a una velocidad preocupante!\")\n",
    "else :\n",
    "    # Velocidad en límites aceptables\n",
    "    print(\"Velocidad aceptable\")\n"
   ]
  },
  {
   "cell_type": "markdown",
   "metadata": {},
   "source": [
    "Si un asteroide entra en la atmósfera de la Tierra a una velocidad mayor o igual a 20 km/s, a veces produce un rayo de luz que se puede ver desde la Tierra. Escribe la lógica condicional que usa declaraciones `if`, `else`, y `elif` para alertar a las personas de todo el mundo que deben buscar un asteroide en el cielo. ¡Hay uno que se dirige a la tierra ahora a una velocidad de 19 km/s!\n",
    "\n",
    "# Agrega el código para crear una variable para un asteroide que viaja a 19 km/s\n",
    "# Escribe varias expresiones de prueba para determinar si puedes ver el rayo de luz desde la tierra\n",
    "# Agrega las instrucciones que se ejecutarán si las expresiones de prueba son True o False"
   ]
  },
  {
   "cell_type": "code",
   "execution_count": null,
   "metadata": {},
   "outputs": [],
   "source": [
    "velocidad_asteroide = 19 #km/s\n",
    "if velocidad_asteroide > 25 :\n",
    "    # Velocidad de advertencia\n",
    "    print(\"Un asteroide va a una velocidad preocupante de {}km/s. ¡Búscalo en el cielo! \".format(velocidad_asteroide))\n",
    "elif velocidad_asteroide >= 20 :\n",
    "    print(\"Hay un asteroide que puedes ver en el cielo y viaja a {}km/s!\".format(velocidad_asteroide))\n",
    "else :\n",
    "    # Velocidad en límites aceptables\n",
    "    print(\"Asteroide a velocidad aceptable de {}km/s\".format(velocidad_asteroide))"
   ]
  },
  {
   "cell_type": "markdown",
   "metadata": {},
   "source": [
    "n este ejercicio, aprenderás información más matizada sobre cuándo los asteroides representan un peligro para la Tierra, y utilizarás esa información para mejorar nuestro sistema de advertencia. Aquí está la nueva información que necesitas saber:\n",
    "\n",
    "*Los asteroides de menos de 25 metros en su dimensión más grande probablemente se quemarán a medida que entren en la atmósfera de la Tierra.\n",
    "* Si una pieza de un asteroide que es más grande que 25 metros pero más pequeña que 1000 metros golpeara la Tierra, causaría mucho daño.\n",
    "\n",
    "También discutimos en el ejercicio anterior que:\n",
    "\n",
    "* La velocidad del asteroide varía en función de lo cerca que esté del sol, y cualquier velocidad superior a 25 kilómetros por segundo (km/s) merece una advertencia.\n",
    "* Si un asteroide entra en la atmósfera de la Tierra a una velocidad mayor o igual a 20 km/s, a veces produce un rayo de luz que se puede ver desde la Tierra.\n",
    "\n",
    "Usando toda esta información, escribe un programa que emita la advertencia o información correcta a la gente de la Tierra, según la velocidad y el tamaño de un asteroide. Utiliza instrucciones `if`, `else`, y `elif`, así como los operadores `and` y `or`.\n"
   ]
  },
  {
   "cell_type": "code",
   "execution_count": 1,
   "metadata": {},
   "outputs": [
    {
     "name": "stdout",
     "output_type": "stream",
     "text": [
      "Asteroide a velocidad de 19km/s\n",
      "El diámetro del asteroide es de 1026 metros. Despídete de tu familia.\n"
     ]
    }
   ],
   "source": [
    "velocidad_asteroide = 19 #km/s\n",
    "diametro_asteroide = 1026 #mts\n",
    "\n",
    "if velocidad_asteroide > 25 :\n",
    "    # Velocidad de advertencia\n",
    "    print(\"Un asteroide va a una velocidad preocupante de {}km/s. ¡Búscalo en el cielo! \".format(velocidad_asteroide))\n",
    "elif velocidad_asteroide >= 20 :\n",
    "    print(\"Hay un asteroide que puedes ver en el cielo y viaja a {}km/s!\".format(velocidad_asteroide))\n",
    "else :\n",
    "    # Velocidad en límites aceptables\n",
    "    print(\"Asteroide a velocidad de {}km/s\".format(velocidad_asteroide))\n",
    "\n",
    "if diametro_asteroide >= 1000 :\n",
    "    print(\"El diámetro del asteroide es de {} metros. Despídete de tu familia.\".format(diametro_asteroide))\n",
    "elif diametro_asteroide > 25 and diametro_asteroide < 1000:\n",
    "    print(\"El diámetro del asteroide es de {} metros y representa un peligro para la tierra\".format(diametro_asteroide))\n",
    "else :\n",
    "    print(\"El diámetro del asteroide es de {} metros y es probable que se queme al ingresar a la atmósfera\".format(diametro_asteroide))\n"
   ]
  }
 ],
 "metadata": {
  "interpreter": {
   "hash": "a689ee4fa45388ebbe105e2281edd1d59283316069841985b5af34134d426bb7"
  },
  "kernelspec": {
   "display_name": "Python 3.9.9 ('env': venv)",
   "language": "python",
   "name": "python3"
  },
  "language_info": {
   "codemirror_mode": {
    "name": "ipython",
    "version": 3
   },
   "file_extension": ".py",
   "mimetype": "text/x-python",
   "name": "python",
   "nbconvert_exporter": "python",
   "pygments_lexer": "ipython3",
   "version": "3.9.9"
  },
  "orig_nbformat": 4
 },
 "nbformat": 4,
 "nbformat_minor": 2
}
