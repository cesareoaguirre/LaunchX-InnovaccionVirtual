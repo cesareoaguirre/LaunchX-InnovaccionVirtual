{
 "cells": [
  {
   "cell_type": "markdown",
   "metadata": {},
   "source": [
    "### Ejercicio 1: Trabajar con argumentos en funciones\n",
    "\n",
    "Los argumentos requeridos en las funciones se utilizan cuando las funciones necesitan que esos argumentos funcionen correctamente. En este ejercicio, construirás un informe de combustible que requiere información de varias ubicaciones de combustible en todo el cohete.\n",
    "\n",
    "# Función para leer 3 tanques de combustible y muestre el promedio\n",
    "# Llamamos a la función que genera el reporte print(funcion(tanque1, tanque2, tanque3))\n"
   ]
  },
  {
   "cell_type": "code",
   "execution_count": 6,
   "metadata": {},
   "outputs": [
    {
     "name": "stdout",
     "output_type": "stream",
     "text": [
      "Reporte de combustibles:\n",
      "- Tanque 1: 10\n",
      "- Tanque 2: 30\n",
      "- Tanque 3: 30\n",
      "Combustible promedio: 26.666666666666668 \n"
     ]
    }
   ],
   "source": [
    "def fuelTankReport(t1,t2,t3):\n",
    "    print(\"Reporte de combustibles:\")\n",
    "    print(f\"- Tanque 1: {t1}\")\n",
    "    print(f\"- Tanque 2: {t2}\")\n",
    "    print(f\"- Tanque 3: {t2}\")\n",
    "    promedio=(t1+t2+t3)/3\n",
    "    print(f\"Combustible promedio: {promedio} \")\n",
    "    \n",
    "fuelTankReport(10,30,40)"
   ]
  },
  {
   "cell_type": "markdown",
   "metadata": {},
   "source": [
    "# Función \n",
    "# Actualiza la función "
   ]
  },
  {
   "cell_type": "code",
   "execution_count": 5,
   "metadata": {},
   "outputs": [
    {
     "name": "stdout",
     "output_type": "stream",
     "text": [
      "Reporte de combustibles:\n",
      "- Tanque 1: 10\n",
      "- Tanque 2: 30\n",
      "- Tanque 3: 30\n",
      "Combustible promedio: 26.666666666666668 \n"
     ]
    }
   ],
   "source": [
    "def  calcPromedio(data=[]):\n",
    "    total=sum(data)\n",
    "    return total/len(data)\n",
    "\n",
    "def fuelTankReport(t1,t2,t3):\n",
    "    print(\"Reporte de combustibles:\")\n",
    "    print(f\"- Tanque 1: {t1}\")\n",
    "    print(f\"- Tanque 2: {t2}\")\n",
    "    print(f\"- Tanque 3: {t2}\")\n",
    "    promedio=calcPromedio([t1,t2,t3])\n",
    "    print(f\"Combustible promedio: {promedio} \")\n",
    "    \n",
    "fuelTankReport(10,30,40)"
   ]
  },
  {
   "cell_type": "markdown",
   "metadata": {},
   "source": [
    "### Ejercicio : Trabajar con argumentos de palabras clave en funciones\n",
    "En este ejercicio, construirás un informe de cohete que requiere varias piezas de información, como el tiempo hasta el destino, el combustible a la izquierda y el nombre del destino. Comienza por crear una función que creará un informe preciso de la misión:\n",
    "\n"
   ]
  },
  {
   "cell_type": "code",
   "execution_count": 3,
   "metadata": {},
   "outputs": [
    {
     "name": "stdout",
     "output_type": "stream",
     "text": [
      "Mission Report\n",
      " - Fly time: 10\n",
      " - Destination: Mars\n",
      " - Ext.  Fuel: 100\n",
      " - Int.  Fuel: 50\n",
      " - fuel left: 150\n"
     ]
    }
   ],
   "source": [
    "# Función con un informe preciso de la misión. Considera hora de prelanzamiento, tiempo de vuelo, destino, tanque externo y tanque interno\n",
    "\n",
    "def  missinReport(flyTime,Dest,externalFuelTank,internalFuelTank):\n",
    "    print(\"Mission Report\")\n",
    "    print(f\" - Destination: {Dest}\")\n",
    "    print(f\" - Fly time: {flyTime}\")\n",
    "    print(f\" - Ext.  Fuel: {externalFuelTank}\")\n",
    "    print(f\" - Int.  Fuel: {internalFuelTank}\")\n",
    "    print(f\" - fuel left: {externalFuelTank+internalFuelTank}\")\n",
    "\n",
    "missinReport(10,\"Mars\", 100,50)"
   ]
  },
  {
   "cell_type": "markdown",
   "metadata": {},
   "source": [
    "con  *args  y **kwargs"
   ]
  },
  {
   "cell_type": "code",
   "execution_count": 18,
   "metadata": {},
   "outputs": [
    {
     "name": "stdout",
     "output_type": "stream",
     "text": [
      "Mission Report\n",
      " - Destination: Mars\n",
      " - Fly time: 60\n",
      " - Fuel reservoirs status\n",
      "    total: 390\n",
      "    av  per  tank: 130.0\n",
      "    - main_fuel: 100\n",
      "    - external_fuel: 50\n",
      "    - the_pilar_or_autum_fuel_ship: 240\n"
     ]
    }
   ],
   "source": [
    "# Función con un informe preciso de la misión. Considera hora de prelanzamiento, tiempo de vuelo, destino, tanque externo y tanque interno\n",
    "\n",
    "def  calcPromedio(data=[]):\n",
    "    total=sum(data)\n",
    "    return total/len(data)\n",
    "\n",
    "def  missinReport(Dest,*minutes,**fuel_reservoirs):\n",
    "    print(\"Mission Report\")\n",
    "    print(f\" - Destination: {Dest}\")\n",
    "    print(f\" - Fly time: {sum(minutes)}\")\n",
    "    print(f\" - Fuel reservoirs status\")\n",
    "    total_fuel = sum(fuel_reservoirs.values())\n",
    "    print(f\"    total: {total_fuel}\")\n",
    "    print(f\"    av  per  tank: {calcPromedio(fuel_reservoirs.values())}\")\n",
    "    for tank, fuel  in fuel_reservoirs.items():\n",
    "        print(f\"    - {tank}: {fuel}\")\n",
    "    \n",
    "missinReport(\"Mars\", 10,20,30, main_fuel=100,  external_fuel=50, the_pilar_or_autum_fuel_ship=240)"
   ]
  }
 ],
 "metadata": {
  "interpreter": {
   "hash": "a689ee4fa45388ebbe105e2281edd1d59283316069841985b5af34134d426bb7"
  },
  "kernelspec": {
   "display_name": "Python 3.9.9 ('env': venv)",
   "language": "python",
   "name": "python3"
  },
  "language_info": {
   "codemirror_mode": {
    "name": "ipython",
    "version": 3
   },
   "file_extension": ".py",
   "mimetype": "text/x-python",
   "name": "python",
   "nbconvert_exporter": "python",
   "pygments_lexer": "ipython3",
   "version": "3.9.9"
  },
  "orig_nbformat": 4
 },
 "nbformat": 4,
 "nbformat_minor": 2
}
